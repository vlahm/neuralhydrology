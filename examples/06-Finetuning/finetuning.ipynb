{
 "cells": [
  {
   "cell_type": "markdown",
   "source": [
    "# How-to Finetune\n",
    "\n",
    "This tutorial shows how to adapt a pretrained model to a different, eventually much smaller dataset, a concept called finetuning. Finetuning is well-established in machine learning and thus nothing new. Generally speaking, the idea is to use a (very) large and diverse dataset to learn a general understanding of the underlying problem first and then, in a second step, adapt this general model to the target data. Usually, especially if the available target data is limited, pretraining plus finetuning yields (much) better results than only considering the final target data. \n",
    "\n",
    "The connection to hydrology is the following: Often, researchers or operators are only interested in a single basin. However, considering that a Deep Learning (DL) model has to learn all (physical) process understanding from the available training data, it might be understandable that the data records of a single basin might not be enough (see e.g. the presentation linked at [this](https://meetingorganizer.copernicus.org/EGU2020/EGU2020-8855.html) EGU'20 abstract)\n",
    "\n",
    "This is were we apply the concept of pretraining and finetuning: First, we train a DL model (e.g. an LSTM) with a large and diverse, multi-basin dataset (e.g. CAMELS) and then finetune this model to our basin of interest. Everything you need is available in the `neuralHydrology` package and in this notebook we will give you an overview of how to actually do it.\n",
    "\n",
    "**Note**: Finetuning can be a tedious task and is usually very sensitive to the learning rate as well as the number of epochs used for finetuning. One reason is that the pretrained models are usually quite large. In fact, most often they are much larger than what would be possible to train for just a single basin. So during finetuning, we have to make sure that this large capacity is not negatively impacting our model results. Common approaches are to a) only allow parts of the model to be adapted during finetuning and/or b) to train with a much lower learning rate. So far, no publication was published that presents a universally working approach for finetuning in hydrology. So be aware that the results may vary and you might need to invest some time before finding a good strategy. However, in our experience it was always possible to get better results _with_ finetuning than without.\n",
    "\n",
    "**To summarize**: If you are interested in getting the best-performing Deep Learning model for a single basin, pretraining on a large and diverse dataset, followed by finetuning the pretrained model on your target basin is the way to go."
   ],
   "metadata": {}
  },
  {
   "cell_type": "code",
   "execution_count": 13,
   "source": [
    "# Imports\n",
    "from pathlib import Path\n",
    "\n",
    "import numpy as np\n",
    "import pandas as pd\n",
    "\n",
    "from neuralhydrology.nh_run import start_run, eval_run, finetune"
   ],
   "outputs": [],
   "metadata": {}
  },
  {
   "cell_type": "markdown",
   "source": [
    "## Pretraining\n",
    "\n",
    "In the first step, we need to pretrain our model on a large and possibly diverse dataset. Our target basin does not necessarily have to be a part of this dataset, but usually it should be better to include it.\n",
    "\n",
    "For the sake of the demonstration, we will train an LSTM on the CAMELS US dataset and then finetune this model to a random basin. Note that it is possible to use other inputs during pretraining and finetuning, if additional embedding layers (before the LSTM) are used, which we will ignore for now. Furthermore, we will concentrate only on demonstrating the \"how-to\" rather than striving for best-possible performance. To save time and energy, we will only pretrain the model for a small number of epochs. When striving for the best possible performance, you should make sure that you pretrain the model as best as possible, before starting to finetune.\n",
    "\n",
    "We will stick closely to the model and experimental setup from [Kratzert et al. (2019)](https://hess.copernicus.org/articles/23/5089/2019/hess-23-5089-2019.html). To summarize:\n",
    "- A single LSTM layer with a hidden size of 128.\n",
    "- Input sequences are 365 days and the prediction is made at the last timestep.\n",
    "- For the sake of this demonstration, we will only consider the 5 meteorological variables from the [extended Maurer](https://doi.org/10.4211/hs.17c896843cf940339c3c3496d0c1c077) forcing data. Either download these forcings and place the `maurer_extended` folder into the `basin_mean_forcing` folder within the CAMELS US root directory or change the forcing product and dynamic inputs in the config file.\n",
    "- We will use the same CAMELS attributes, as in the publication mentioned above, as additional inputs at every time step so that the model can learn different hydrological behaviors depending on the catchment properties.\n",
    "\n",
    "For more details, take a look at the config print-out below."
   ],
   "metadata": {}
  },
  {
   "cell_type": "code",
   "execution_count": 2,
   "source": [
    "config_file = Path(\"531_basins.yml\")\n",
    "start_run(config_file=config_file)"
   ],
   "outputs": [
    {
     "output_type": "stream",
     "name": "stdout",
     "text": [
      "2021-09-28 14:11:48,584: Logging to /home/frederik/Projects/neuralhydrology/examples/06-Finetuning/runs/cudalstm_maurer_531_basins_2809_141148/output.log initialized.\n",
      "2021-09-28 14:11:48,586: ### Folder structure created at /home/frederik/Projects/neuralhydrology/examples/06-Finetuning/runs/cudalstm_maurer_531_basins_2809_141148\n",
      "2021-09-28 14:11:48,587: ### Run configurations for cudalstm_maurer_531_basins\n",
      "2021-09-28 14:11:48,588: experiment_name: cudalstm_maurer_531_basins\n",
      "2021-09-28 14:11:48,590: run_dir: /home/frederik/Projects/neuralhydrology/examples/06-Finetuning/runs/cudalstm_maurer_531_basins_2809_141148\n",
      "2021-09-28 14:11:48,592: train_basin_file: 531_basin_list.txt\n",
      "2021-09-28 14:11:48,594: validation_basin_file: 531_basin_list.txt\n",
      "2021-09-28 14:11:48,595: test_basin_file: 531_basin_list.txt\n",
      "2021-09-28 14:11:48,597: train_start_date: 1999-10-01 00:00:00\n",
      "2021-09-28 14:11:48,599: train_end_date: 2008-09-30 00:00:00\n",
      "2021-09-28 14:11:48,600: validation_start_date: 1980-10-01 00:00:00\n",
      "2021-09-28 14:11:48,601: validation_end_date: 1989-09-30 00:00:00\n",
      "2021-09-28 14:11:48,602: test_start_date: 1989-10-01 00:00:00\n",
      "2021-09-28 14:11:48,602: test_end_date: 1999-09-30 00:00:00\n",
      "2021-09-28 14:11:48,603: seed: 123\n",
      "2021-09-28 14:11:48,605: device: cuda:0\n",
      "2021-09-28 14:11:48,606: validate_every: 1\n",
      "2021-09-28 14:11:48,607: validate_n_random_basins: 531\n",
      "2021-09-28 14:11:48,608: metrics: ['NSE']\n",
      "2021-09-28 14:11:48,609: model: cudalstm\n",
      "2021-09-28 14:11:48,610: head: regression\n",
      "2021-09-28 14:11:48,611: hidden_size: 128\n",
      "2021-09-28 14:11:48,611: initial_forget_bias: 3\n",
      "2021-09-28 14:11:48,612: output_dropout: 0.4\n",
      "2021-09-28 14:11:48,613: output_activation: linear\n",
      "2021-09-28 14:11:48,613: optimizer: Adam\n",
      "2021-09-28 14:11:48,614: loss: NSE\n",
      "2021-09-28 14:11:48,615: learning_rate: {0: 0.001, 1: 0.0005}\n",
      "2021-09-28 14:11:48,615: batch_size: 256\n",
      "2021-09-28 14:11:48,616: epochs: 3\n",
      "2021-09-28 14:11:48,617: clip_gradient_norm: 1\n",
      "2021-09-28 14:11:48,619: predict_last_n: 1\n",
      "2021-09-28 14:11:48,620: seq_length: 365\n",
      "2021-09-28 14:11:48,620: num_workers: 8\n",
      "2021-09-28 14:11:48,621: log_interval: 5\n",
      "2021-09-28 14:11:48,623: log_tensorboard: True\n",
      "2021-09-28 14:11:48,623: save_weights_every: 1\n",
      "2021-09-28 14:11:48,624: save_validation_results: True\n",
      "2021-09-28 14:11:48,625: dataset: camels_us\n",
      "2021-09-28 14:11:48,626: data_dir: /data/Hydrology/CAMELS_US\n",
      "2021-09-28 14:11:48,627: forcings: ['maurer_extended']\n",
      "2021-09-28 14:11:48,628: dynamic_inputs: ['prcp(mm/day)', 'srad(W/m2)', 'tmax(C)', 'tmin(C)', 'vp(Pa)']\n",
      "2021-09-28 14:11:48,630: target_variables: ['QObs(mm/d)']\n",
      "2021-09-28 14:11:48,631: static_attributes: ['elev_mean', 'slope_mean', 'area_gages2', 'frac_forest', 'lai_max', 'lai_diff', 'gvf_max', 'gvf_diff', 'soil_depth_pelletier', 'soil_depth_statsgo', 'soil_porosity', 'soil_conductivity', 'max_water_content', 'sand_frac', 'silt_frac', 'clay_frac', 'carbonate_rocks_frac', 'geol_permeability', 'p_mean', 'pet_mean', 'aridity', 'frac_snow', 'high_prec_freq', 'high_prec_dur', 'low_prec_freq', 'low_prec_dur']\n",
      "2021-09-28 14:11:48,632: number_of_basins: 531\n",
      "2021-09-28 14:11:48,632: train_dir: /home/frederik/Projects/neuralhydrology/examples/06-Finetuning/runs/cudalstm_maurer_531_basins_2809_141148/train_data\n",
      "2021-09-28 14:11:48,633: img_log_dir: /home/frederik/Projects/neuralhydrology/examples/06-Finetuning/runs/cudalstm_maurer_531_basins_2809_141148/img_log\n",
      "2021-09-28 14:11:48,647: ### Device cuda:0 will be used for training\n",
      "2021-09-28 14:11:51,445: Loading basin data into xarray data set.\n",
      "100%|██████████| 531/531 [00:34<00:00, 15.50it/s]\n",
      "2021-09-28 14:12:26,134: Calculating target variable stds per basin\n",
      "100%|██████████| 531/531 [00:00<00:00, 760.81it/s]\n",
      "2021-09-28 14:12:26,952: Create lookup table and convert to pytorch tensor\n",
      "100%|██████████| 531/531 [00:15<00:00, 34.00it/s]\n",
      "2021-09-28 14:12:43,179: Setting learning rate to 0.0005\n",
      "# Epoch 1: 100%|██████████| 6821/6821 [03:52<00:00, 29.38it/s, Loss: 0.0026]\n",
      "2021-09-28 14:16:35,345: Epoch 1 average loss: 0.037816950176797315\n",
      "# Validation: 100%|██████████| 531/531 [03:09<00:00,  2.81it/s]\n",
      "2021-09-28 14:19:44,681: Stored results at /home/frederik/Projects/neuralhydrology/examples/06-Finetuning/runs/cudalstm_maurer_531_basins_2809_141148/validation/model_epoch001/validation_results.p\n",
      "2021-09-28 14:19:44,689:  -- Median validation metrics:NSE: 0.63450\n",
      "# Epoch 2: 100%|██████████| 6821/6821 [03:54<00:00, 29.03it/s, Loss: 0.0083]\n",
      "2021-09-28 14:23:39,655: Epoch 2 average loss: 0.024983095936989202\n",
      "# Validation: 100%|██████████| 531/531 [02:14<00:00,  3.96it/s]\n",
      "2021-09-28 14:25:53,995: Stored results at /home/frederik/Projects/neuralhydrology/examples/06-Finetuning/runs/cudalstm_maurer_531_basins_2809_141148/validation/model_epoch002/validation_results.p\n",
      "2021-09-28 14:25:54,002:  -- Median validation metrics:NSE: 0.63629\n",
      "# Epoch 3: 100%|██████████| 6821/6821 [03:54<00:00, 29.04it/s, Loss: 0.0018]\n",
      "2021-09-28 14:29:48,896: Epoch 3 average loss: 0.02239222739251207\n",
      "# Validation: 100%|██████████| 531/531 [02:26<00:00,  3.62it/s]\n",
      "2021-09-28 14:32:15,867: Stored results at /home/frederik/Projects/neuralhydrology/examples/06-Finetuning/runs/cudalstm_maurer_531_basins_2809_141148/validation/model_epoch003/validation_results.p\n",
      "2021-09-28 14:32:15,875:  -- Median validation metrics:NSE: 0.70098\n"
     ]
    }
   ],
   "metadata": {}
  },
  {
   "cell_type": "markdown",
   "source": [
    "We end with an okay'ish model that should be enough for the purpose of this demonstration. Remember we only train for a limited number of epochs here.\n",
    "\n",
    "Next, let's look in the `runs/` folder, where the folder of this model is stored to lookup the exact name."
   ],
   "metadata": {}
  },
  {
   "cell_type": "code",
   "execution_count": 3,
   "source": [
    "!ls runs/"
   ],
   "outputs": [
    {
     "output_type": "stream",
     "name": "stdout",
     "text": [
      "cudalstm_maurer_531_basins_2809_141148\n"
     ]
    }
   ],
   "metadata": {}
  },
  {
   "cell_type": "markdown",
   "source": [
    "Next, we'll load the validation results into memory so we can select a basin to demonstrate how to finetune based on the model performance. Here, we will select a random basin from the lower 50% of the NSE distribution, i.e. a basin where the NSE is below the median NSE. Usually, you'll see better performance gains for basins with lower model performance than for those where the base model is already really good."
   ],
   "metadata": {}
  },
  {
   "cell_type": "code",
   "execution_count": 4,
   "source": [
    "# Load validation results from the last epoch\n",
    "run_dir = Path(\"runs/cudalstm_maurer_531_basins_2809_141148/\")\n",
    "df = pd.read_csv(run_dir / \"validation\" / \"model_epoch003\" / \"metrics_freq1D.csv\", dtype={'basin': str})\n",
    "df = df.set_index('basin')\n",
    "\n",
    "# Compute the median NSE from all basins, where discharge observations are available for that period\n",
    "print(f\"Median NSE of the validation period {df['NSE'].median():.3f}\")\n",
    "\n",
    "# Select a random basins from the lower 50% of the NSE distribution\n",
    "basin = df.loc[df[\"NSE\"] < df[\"NSE\"].median()].sample(n=1).index[0]\n",
    "\n",
    "print(f\"Selected basin: {basin} with an NSE of {df.loc[df.index == basin, 'NSE'].values[0]:.3f}\")"
   ],
   "outputs": [
    {
     "output_type": "stream",
     "name": "stdout",
     "text": [
      "Median NSE of the validation period 0.701\n",
      "Selected basin: 02055100 with an NSE of 0.296\n"
     ]
    }
   ],
   "metadata": {}
  },
  {
   "cell_type": "markdown",
   "source": [
    "## Finetuning\n",
    "\n",
    "Next, we will show how to perform finetuning for the basin selected above, based on the model we just trained. The function to use is `finetune` from `neuralhydrology.nh_run` if you want to train from within a script or notebook. If you want to start finetuning from the command line, you can also call the `nh-run` utility with the `finetune` argument, instead of e.g. `train` or `evaluate`.\n",
    "\n",
    "The only thing required, similar to the model training itself, is a config file. This config however has slightly different requirements to a normal model config and works slightly different:\n",
    "- The config has to contain the following two arguments:\n",
    "    - `base_run_dir`: The path to the directory of the pre-trained model.\n",
    "    - `finetune_modules`: Which parts of the pre-trained model you want to finetune. Check the documentation of each model class for a list of all possible parts. Often only parts, e.g. the output layer, are trained during finetuning and the rest is kept fixed. There is no general rule of thumb and most likely you will have to try both.\n",
    "- Any additional argument contained in this config will overwrite the config argument of the pre-trained model. Everything _not_ specified will be taken from the pre-trained model. That is, you can e.g. specify a new basin file in the finetuning config (by `train_basin_file`) to finetune the pre-trained model on a different set of basins, or even just a single basin as we will do in this notebook. You can also change the learning rate, loss function, evaluation metrics and so on. The only thing you can not change are arguments that change the model architecture (e.g. `model`, `hidden_size` etc.), because this leads to errors when you try to load the pre-trained weights into the initialized model.\n",
    "\n",
    "Let's have a look at the `finetune.yml` config that we prepared for this tutorial."
   ],
   "metadata": {}
  },
  {
   "cell_type": "code",
   "execution_count": 5,
   "source": [
    "!cat finetune.yml"
   ],
   "outputs": [
    {
     "output_type": "stream",
     "name": "stdout",
     "text": [
      "# --- Experiment configurations --------------------------------------------------------------------\n",
      "\n",
      "# experiment name, used as folder name\n",
      "experiment_name: cudalstm_maurer_531_basins_finetuned\n",
      "\n",
      "# files to specify training, validation and test basins (relative to code root or absolute path)\n",
      "train_basin_file: finetune_basin.txt\n",
      "validation_basin_file: finetune_basin.txt\n",
      "test_basin_file: finetune_basin.txt\n",
      "\n",
      "# --- Training configuration -----------------------------------------------------------------------\n",
      "\n",
      "# specify learning rates to use starting at specific epochs (0 is the initial learning rate)\n",
      "learning_rate:\n",
      "    0: 5e-4\n",
      "    2: 5e-5\t\n",
      "\n",
      "# Number of training epochs\n",
      "epochs: 10\n",
      "\n",
      "finetune_modules:\n",
      "- head\n",
      "- lstm\n",
      "base_run_dir: /home/frederik/Projects/neuralhydrology/examples/06-Finetuning/runs/cudalstm_maurer_531_basins_2809_133043"
     ]
    }
   ],
   "metadata": {}
  },
  {
   "cell_type": "markdown",
   "source": [
    "So out of the two arguments that are required, `base_run_dir` is still missing. We will add the argument from here and point at the directory of the model we just trained. Furthermore, we point to a new file for training, validation and testing, called `finetune_basin.txt`, which does not yet exist. We will create this file and add the basin we selected above as the only basin we want to use here. The rest are some changes to the learning rate and the number of training epochs as well as a new name. Also note that here, we train the full model, by selecting all model parts available for the `CudaLSTM` under `finetune_modules`."
   ],
   "metadata": {}
  },
  {
   "cell_type": "code",
   "execution_count": 6,
   "source": [
    "# Add the path to the pre-trained model to the finetune config\n",
    "with open(\"finetune.yml\", \"a\") as fp:\n",
    "    fp.write(f\"base_run_dir: {run_dir.absolute()}\")\n",
    "    \n",
    "# Create a basin file with the basin we selected above\n",
    "with open(\"finetune_basin.txt\", \"w\") as fp:\n",
    "    fp.write(basin)"
   ],
   "outputs": [],
   "metadata": {}
  },
  {
   "cell_type": "markdown",
   "source": [
    "With that, we are ready to start the finetuning. As mentioned above, we have two options to start finetuning:\n",
    "1. Call the `finetune()` function from a different Python script or a Jupyter Notebook with the path to the config.\n",
    "2. Start the finetuning from the command line by calling\n",
    "\n",
    "```bash\n",
    "nh-run finetune --config-file /path/to/config.yml\n",
    "```\n",
    "\n",
    "Here, we will use the first option."
   ],
   "metadata": {}
  },
  {
   "cell_type": "code",
   "execution_count": 8,
   "source": [
    "finetune(Path(\"finetune.yml\"))"
   ],
   "outputs": [
    {
     "output_type": "stream",
     "name": "stdout",
     "text": [
      "2021-09-28 15:13:36,650: Logging to /home/frederik/Projects/neuralhydrology/examples/06-Finetuning/runs/cudalstm_maurer_531_basins_finetuned_2809_151336/output.log initialized.\n",
      "2021-09-28 15:13:36,651: ### Folder structure created at /home/frederik/Projects/neuralhydrology/examples/06-Finetuning/runs/cudalstm_maurer_531_basins_finetuned_2809_151336\n",
      "2021-09-28 15:13:36,652: ### Start finetuning with pretrained model stored in /home/frederik/Projects/neuralhydrology/examples/06-Finetuning/runs/cudalstm_maurer_531_basins_2809_141148\n",
      "2021-09-28 15:13:36,652: ### Run configurations for cudalstm_maurer_531_basins_finetuned\n",
      "2021-09-28 15:13:36,653: batch_size: 256\n",
      "2021-09-28 15:13:36,654: clip_gradient_norm: 1\n",
      "2021-09-28 15:13:36,655: commit_hash: 7c75e42\n",
      "2021-09-28 15:13:36,655: data_dir: /data/Hydrology/CAMELS_US\n",
      "2021-09-28 15:13:36,656: dataset: camels_us\n",
      "2021-09-28 15:13:36,657: device: cuda:0\n",
      "2021-09-28 15:13:36,658: dynamic_inputs: ['prcp(mm/day)', 'srad(W/m2)', 'tmax(C)', 'tmin(C)', 'vp(Pa)']\n",
      "2021-09-28 15:13:36,659: epochs: 10\n",
      "2021-09-28 15:13:36,659: experiment_name: cudalstm_maurer_531_basins_finetuned\n",
      "2021-09-28 15:13:36,660: forcings: ['maurer_extended']\n",
      "2021-09-28 15:13:36,661: head: regression\n",
      "2021-09-28 15:13:36,661: hidden_size: 128\n",
      "2021-09-28 15:13:36,663: img_log_dir: /home/frederik/Projects/neuralhydrology/examples/06-Finetuning/runs/cudalstm_maurer_531_basins_finetuned_2809_151336/img_log\n",
      "2021-09-28 15:13:36,664: initial_forget_bias: 3\n",
      "2021-09-28 15:13:36,664: learning_rate: {0: 0.0005, 2: 5e-05}\n",
      "2021-09-28 15:13:36,665: log_interval: 5\n",
      "2021-09-28 15:13:36,666: log_tensorboard: True\n",
      "2021-09-28 15:13:36,667: loss: NSE\n",
      "2021-09-28 15:13:36,668: metrics: ['NSE']\n",
      "2021-09-28 15:13:36,669: model: cudalstm\n",
      "2021-09-28 15:13:36,669: num_workers: 8\n",
      "2021-09-28 15:13:36,670: number_of_basins: 1\n",
      "2021-09-28 15:13:36,671: optimizer: Adam\n",
      "2021-09-28 15:13:36,672: output_activation: linear\n",
      "2021-09-28 15:13:36,672: output_dropout: 0.4\n",
      "2021-09-28 15:13:36,673: package_version: 1.0.0-beta4\n",
      "2021-09-28 15:13:36,674: predict_last_n: 1\n",
      "2021-09-28 15:13:36,675: run_dir: /home/frederik/Projects/neuralhydrology/examples/06-Finetuning/runs/cudalstm_maurer_531_basins_finetuned_2809_151336\n",
      "2021-09-28 15:13:36,676: save_validation_results: True\n",
      "2021-09-28 15:13:36,677: save_weights_every: 1\n",
      "2021-09-28 15:13:36,677: seed: 123\n",
      "2021-09-28 15:13:36,678: seq_length: 365\n",
      "2021-09-28 15:13:36,679: static_attributes: ['elev_mean', 'slope_mean', 'area_gages2', 'frac_forest', 'lai_max', 'lai_diff', 'gvf_max', 'gvf_diff', 'soil_depth_pelletier', 'soil_depth_statsgo', 'soil_porosity', 'soil_conductivity', 'max_water_content', 'sand_frac', 'silt_frac', 'clay_frac', 'carbonate_rocks_frac', 'geol_permeability', 'p_mean', 'pet_mean', 'aridity', 'frac_snow', 'high_prec_freq', 'high_prec_dur', 'low_prec_freq', 'low_prec_dur']\n",
      "2021-09-28 15:13:36,679: target_variables: ['QObs(mm/d)']\n",
      "2021-09-28 15:13:36,680: test_basin_file: finetune_basin.txt\n",
      "2021-09-28 15:13:36,681: test_end_date: 1999-09-30 00:00:00\n",
      "2021-09-28 15:13:36,685: test_start_date: 1989-10-01 00:00:00\n",
      "2021-09-28 15:13:36,686: train_basin_file: finetune_basin.txt\n",
      "2021-09-28 15:13:36,687: train_dir: /home/frederik/Projects/neuralhydrology/examples/06-Finetuning/runs/cudalstm_maurer_531_basins_finetuned_2809_151336/train_data\n",
      "2021-09-28 15:13:36,688: train_end_date: 2008-09-30 00:00:00\n",
      "2021-09-28 15:13:36,689: train_start_date: 1999-10-01 00:00:00\n",
      "2021-09-28 15:13:36,689: validate_every: 1\n",
      "2021-09-28 15:13:36,690: validate_n_random_basins: 531\n",
      "2021-09-28 15:13:36,693: validation_basin_file: finetune_basin.txt\n",
      "2021-09-28 15:13:36,693: validation_end_date: 1989-09-30 00:00:00\n",
      "2021-09-28 15:13:36,694: validation_start_date: 1980-10-01 00:00:00\n",
      "2021-09-28 15:13:36,695: finetune_modules: ['head', 'lstm']\n",
      "2021-09-28 15:13:36,696: base_run_dir: /home/frederik/Projects/neuralhydrology/examples/06-Finetuning/runs/cudalstm_maurer_531_basins_2809_141148\n",
      "2021-09-28 15:13:36,697: is_finetuning: True\n",
      "2021-09-28 15:13:36,698: is_continue_training: False\n",
      "2021-09-28 15:13:36,700: ### Device cuda:0 will be used for training\n",
      "2021-09-28 15:13:36,716: Starting training from checkpoint /home/frederik/Projects/neuralhydrology/examples/06-Finetuning/runs/cudalstm_maurer_531_basins_2809_141148/model_epoch003.pt\n",
      "2021-09-28 15:13:36,772: Loading basin data into xarray data set.\n",
      "100%|██████████| 1/1 [00:00<00:00, 12.94it/s]\n",
      "2021-09-28 15:13:36,857: Calculating target variable stds per basin\n",
      "100%|██████████| 1/1 [00:00<00:00, 249.78it/s]\n",
      "2021-09-28 15:13:36,867: Create lookup table and convert to pytorch tensor\n",
      "100%|██████████| 1/1 [00:00<00:00, 27.45it/s]\n",
      "# Epoch 1: 100%|██████████| 13/13 [00:01<00:00, 12.30it/s, Loss: 0.0366]\n",
      "2021-09-28 15:13:38,230: Epoch 1 average loss: 0.026171598332719162\n",
      "# Validation: 100%|██████████| 1/1 [00:00<00:00,  2.62it/s]\n",
      "2021-09-28 15:13:38,626: Stored results at /home/frederik/Projects/neuralhydrology/examples/06-Finetuning/runs/cudalstm_maurer_531_basins_finetuned_2809_151336/validation/model_epoch001/validation_results.p\n",
      "2021-09-28 15:13:38,628:  -- Median validation metrics:NSE: 0.32053\n",
      "2021-09-28 15:13:38,629: Setting learning rate to 5e-05\n",
      "# Epoch 2: 100%|██████████| 13/13 [00:01<00:00, 12.19it/s, Loss: 0.0074]\n",
      "2021-09-28 15:13:39,699: Epoch 2 average loss: 0.0211550507407922\n",
      "# Validation: 100%|██████████| 1/1 [00:00<00:00,  3.81it/s]\n",
      "2021-09-28 15:13:39,975: Stored results at /home/frederik/Projects/neuralhydrology/examples/06-Finetuning/runs/cudalstm_maurer_531_basins_finetuned_2809_151336/validation/model_epoch002/validation_results.p\n",
      "2021-09-28 15:13:39,977:  -- Median validation metrics:NSE: 0.32451\n",
      "# Epoch 3: 100%|██████████| 13/13 [00:00<00:00, 13.27it/s, Loss: 0.0485]\n",
      "2021-09-28 15:13:40,961: Epoch 3 average loss: 0.02099328368114164\n",
      "# Validation: 100%|██████████| 1/1 [00:00<00:00,  4.54it/s]\n",
      "2021-09-28 15:13:41,194: Stored results at /home/frederik/Projects/neuralhydrology/examples/06-Finetuning/runs/cudalstm_maurer_531_basins_finetuned_2809_151336/validation/model_epoch003/validation_results.p\n",
      "2021-09-28 15:13:41,196:  -- Median validation metrics:NSE: 0.32845\n",
      "# Epoch 4: 100%|██████████| 13/13 [00:00<00:00, 14.02it/s, Loss: 0.0346]\n",
      "2021-09-28 15:13:42,127: Epoch 4 average loss: 0.02220547697148644\n",
      "# Validation: 100%|██████████| 1/1 [00:00<00:00,  4.54it/s]\n",
      "2021-09-28 15:13:42,362: Stored results at /home/frederik/Projects/neuralhydrology/examples/06-Finetuning/runs/cudalstm_maurer_531_basins_finetuned_2809_151336/validation/model_epoch004/validation_results.p\n",
      "2021-09-28 15:13:42,363:  -- Median validation metrics:NSE: 0.33263\n",
      "# Epoch 5: 100%|██████████| 13/13 [00:00<00:00, 13.80it/s, Loss: 0.0049]\n",
      "2021-09-28 15:13:43,310: Epoch 5 average loss: 0.017981144420516033\n",
      "# Validation: 100%|██████████| 1/1 [00:00<00:00,  4.34it/s]\n",
      "2021-09-28 15:13:43,555: Stored results at /home/frederik/Projects/neuralhydrology/examples/06-Finetuning/runs/cudalstm_maurer_531_basins_finetuned_2809_151336/validation/model_epoch005/validation_results.p\n",
      "2021-09-28 15:13:43,558:  -- Median validation metrics:NSE: 0.33447\n",
      "# Epoch 6: 100%|██████████| 13/13 [00:00<00:00, 14.03it/s, Loss: 0.0067]\n",
      "2021-09-28 15:13:44,488: Epoch 6 average loss: 0.017151774408725593\n",
      "# Validation: 100%|██████████| 1/1 [00:00<00:00,  4.40it/s]\n",
      "2021-09-28 15:13:44,731: Stored results at /home/frederik/Projects/neuralhydrology/examples/06-Finetuning/runs/cudalstm_maurer_531_basins_finetuned_2809_151336/validation/model_epoch006/validation_results.p\n",
      "2021-09-28 15:13:44,733:  -- Median validation metrics:NSE: 0.33739\n",
      "# Epoch 7: 100%|██████████| 13/13 [00:00<00:00, 13.88it/s, Loss: 0.0103]\n",
      "2021-09-28 15:13:45,675: Epoch 7 average loss: 0.01947179354297427\n",
      "# Validation: 100%|██████████| 1/1 [00:00<00:00,  4.31it/s]\n",
      "2021-09-28 15:13:45,919: Stored results at /home/frederik/Projects/neuralhydrology/examples/06-Finetuning/runs/cudalstm_maurer_531_basins_finetuned_2809_151336/validation/model_epoch007/validation_results.p\n",
      "2021-09-28 15:13:45,921:  -- Median validation metrics:NSE: 0.33812\n",
      "# Epoch 8: 100%|██████████| 13/13 [00:01<00:00, 12.91it/s, Loss: 0.0042]\n",
      "2021-09-28 15:13:46,933: Epoch 8 average loss: 0.015684980218513653\n",
      "# Validation: 100%|██████████| 1/1 [00:00<00:00,  4.45it/s]\n",
      "2021-09-28 15:13:47,173: Stored results at /home/frederik/Projects/neuralhydrology/examples/06-Finetuning/runs/cudalstm_maurer_531_basins_finetuned_2809_151336/validation/model_epoch008/validation_results.p\n",
      "2021-09-28 15:13:47,175:  -- Median validation metrics:NSE: 0.34091\n",
      "# Epoch 9: 100%|██████████| 13/13 [00:00<00:00, 13.57it/s, Loss: 0.0041]\n",
      "2021-09-28 15:13:48,138: Epoch 9 average loss: 0.018014187924563885\n",
      "# Validation: 100%|██████████| 1/1 [00:00<00:00,  4.08it/s]\n",
      "2021-09-28 15:13:48,398: Stored results at /home/frederik/Projects/neuralhydrology/examples/06-Finetuning/runs/cudalstm_maurer_531_basins_finetuned_2809_151336/validation/model_epoch009/validation_results.p\n",
      "2021-09-28 15:13:48,399:  -- Median validation metrics:NSE: 0.34313\n",
      "# Epoch 10: 100%|██████████| 13/13 [00:00<00:00, 14.12it/s, Loss: 0.0531]\n",
      "2021-09-28 15:13:49,323: Epoch 10 average loss: 0.0169010736191502\n",
      "# Validation: 100%|██████████| 1/1 [00:00<00:00,  4.45it/s]\n",
      "2021-09-28 15:13:49,565: Stored results at /home/frederik/Projects/neuralhydrology/examples/06-Finetuning/runs/cudalstm_maurer_531_basins_finetuned_2809_151336/validation/model_epoch010/validation_results.p\n",
      "2021-09-28 15:13:49,567:  -- Median validation metrics:NSE: 0.34263\n"
     ]
    }
   ],
   "metadata": {
    "scrolled": false
   }
  },
  {
   "cell_type": "markdown",
   "source": [
    "Looking at the validation result, we can see an increase of roughly 0.05 NSE.\n",
    "\n",
    "Last but not least, we will compare the pre-trained and the finetuned model on the test period. For this, we will make use of the `eval_run` function from `neuralhydrolgy.nh_run`. Alternatively, you could evaluate both runs from the command line by calling\n",
    "\n",
    "```bash\n",
    "nh-run evaluate --run-dir /path/to/run_directory/\n",
    "```"
   ],
   "metadata": {}
  },
  {
   "cell_type": "code",
   "execution_count": 9,
   "source": [
    "eval_run(run_dir, period=\"test\")"
   ],
   "outputs": [
    {
     "output_type": "stream",
     "name": "stdout",
     "text": [
      "2021-09-28 15:13:56,872: Using the model weights from runs/cudalstm_maurer_531_basins_2809_141148/model_epoch003.pt\n",
      "# Evaluation: 100%|██████████| 531/531 [03:05<00:00,  2.87it/s]\n",
      "2021-09-28 15:17:02,286: Stored results at runs/cudalstm_maurer_531_basins_2809_141148/test/model_epoch003/test_results.p\n"
     ]
    }
   ],
   "metadata": {}
  },
  {
   "cell_type": "markdown",
   "source": [
    "Next we check for the full name of the finetuning run (which we could also extract from the log output above)"
   ],
   "metadata": {}
  },
  {
   "cell_type": "code",
   "execution_count": 10,
   "source": [
    "!ls runs/"
   ],
   "outputs": [
    {
     "output_type": "stream",
     "name": "stdout",
     "text": [
      "cudalstm_maurer_531_basins_2809_141148\n",
      "cudalstm_maurer_531_basins_finetuned_2809_151336\n"
     ]
    }
   ],
   "metadata": {}
  },
  {
   "cell_type": "markdown",
   "source": [
    "Now we can call the `eval_run()` function as above, but pointing to the directory of the finetuned run. By default, this function evaluates the last checkpoint, which can be changed with the `epoch` argument. Here however, we use the default."
   ],
   "metadata": {}
  },
  {
   "cell_type": "code",
   "execution_count": 11,
   "source": [
    "finetune_dir = Path(\"runs/cudalstm_maurer_531_basins_finetuned_2809_151336\")\n",
    "eval_run(finetune_dir, period=\"test\")"
   ],
   "outputs": [
    {
     "output_type": "stream",
     "name": "stdout",
     "text": [
      "2021-09-28 15:17:11,469: Using the model weights from runs/cudalstm_maurer_531_basins_finetuned_2809_151336/model_epoch010.pt\n",
      "# Evaluation: 100%|██████████| 1/1 [00:00<00:00,  1.91it/s]\n",
      "2021-09-28 15:17:12,007: Stored results at runs/cudalstm_maurer_531_basins_finetuned_2809_151336/test/model_epoch010/test_results.p\n"
     ]
    }
   ],
   "metadata": {}
  },
  {
   "cell_type": "markdown",
   "source": [
    "Now let's look at the test period results of the pre-trained base model and the finetuned model for the basin that we chose above."
   ],
   "metadata": {}
  },
  {
   "cell_type": "code",
   "execution_count": 15,
   "source": [
    "# load test results of the base run\n",
    "df_pretrained = pd.read_csv(run_dir / \"test/model_epoch003/metrics_freq1D.csv\", dtype={'basin': str})\n",
    "df_pretrained = df_pretrained.set_index(\"basin\")\n",
    "    \n",
    "# load test results of the finetuned model\n",
    "df_finetuned = pd.read_csv(finetune_dir / \"test/model_epoch010/metrics_freq1D.csv\", dtype={'basin': str})\n",
    "df_finetuned = df_finetuned.set_index(\"basin\")\n",
    "    \n",
    "# extract basin performance\n",
    "base_model_nse = df_pretrained.loc[df_pretrained.index == basin, \"NSE\"].values[0]\n",
    "finetune_nse = df_finetuned.loc[df_finetuned.index == basin, \"NSE\"].values[0]\n",
    "print(f\"Basin {basin} base model performance: {base_model_nse:.3f}\")\n",
    "print(f\"Performance after finetuning: {finetune_nse:.3f}\")"
   ],
   "outputs": [
    {
     "output_type": "stream",
     "name": "stdout",
     "text": [
      "Basin 02055100 base model performance: 0.568\n",
      "Performance after finetuning: 0.646\n"
     ]
    }
   ],
   "metadata": {}
  },
  {
   "cell_type": "markdown",
   "source": [
    "So we see roughly the same performance increase in the test period (slightly higher), which is great. However, note that a) our base model was not optimally trained (we stopped quite early) but also b) the finetuning settings were chosen rather randomly. From our experience so far, you can almost always get performance increases for individual basins with finetuning, but it is difficult to find settings that are universally applicable. However, this tutorial was just a showcase of how easy it actually is to finetune models with the `neuralHydrology` library. Now it is up to you to experiment with it."
   ],
   "metadata": {}
  }
 ],
 "metadata": {
  "kernelspec": {
   "name": "python3",
   "display_name": "Python 3.7.9 64-bit ('neuralhydrology': conda)"
  },
  "language_info": {
   "codemirror_mode": {
    "name": "ipython",
    "version": 3
   },
   "file_extension": ".py",
   "mimetype": "text/x-python",
   "name": "python",
   "nbconvert_exporter": "python",
   "pygments_lexer": "ipython3",
   "version": "3.7.9"
  },
  "interpreter": {
   "hash": "f06a3d735e79588c205b3c00d1109d1e91c6d37f901bb6d63171682e1f2fd309"
  }
 },
 "nbformat": 4,
 "nbformat_minor": 4
}